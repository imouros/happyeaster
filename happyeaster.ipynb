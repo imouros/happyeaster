
using PyPlot

n, L = 51, 4

x = range(-L/2, L/2, length=n)
y = x
X, Y = [ x[i] for i=1:n, j=1:n], [ y[j] for i=1:n, j=1:n]

egg = @. X^2 + Y^2/(1.3 + 0.2Y)^2

contour(X, Y, egg, levels=[1.0], colors="red")
annotate(L"x^2 + \frac{y^2}{(1.3+0.2y)^2} = 1",
    xy=[1; 0],
    xycoords="axes fraction",
    xytext=[-10, 10],
    textcoords="offset points",
    fontsize=16.0,
    ha="right",
    va="bottom")

annotate("καλό πάσχα",
    xy=[0.5; 1],
    xycoords="axes fraction",
    xytext=[-10, 10],
    textcoords="offset points",
    fontsize=16.0,
    ha="center",
    va="bottom")

xticks(-2:1:2)
yticks(-2:1:2)
axis("square")

savefig("happyeaster.png", dpi=200);
